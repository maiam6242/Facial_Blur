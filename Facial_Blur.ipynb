{
  "nbformat": 4,
  "nbformat_minor": 0,
  "metadata": {
    "colab": {
      "name": "Facial_Blur.ipynb",
      "provenance": [],
      "collapsed_sections": [],
      "include_colab_link": true
    },
    "kernelspec": {
      "name": "python3",
      "display_name": "Python 3"
    },
    "accelerator": "GPU"
  },
  "cells": [
    {
      "cell_type": "markdown",
      "metadata": {
        "id": "view-in-github",
        "colab_type": "text"
      },
      "source": [
        "<a href=\"https://colab.research.google.com/github/maiam6242/Facial_Blur/blob/master/Facial_Blur.ipynb\" target=\"_parent\"><img src=\"https://colab.research.google.com/assets/colab-badge.svg\" alt=\"Open In Colab\"/></a>"
      ]
    },
    {
      "cell_type": "code",
      "metadata": {
        "id": "qag1NL_FWy88",
        "colab_type": "code",
        "colab": {}
      },
      "source": [
        "# hey! this is wacky!!\n",
        "# can you see this?"
      ],
      "execution_count": 0,
      "outputs": []
    },
    {
      "cell_type": "markdown",
      "metadata": {
        "id": "2t20OdGNZI7l",
        "colab_type": "text"
      },
      "source": [
        "yooo can you see me writing this?\n"
      ]
    },
    {
      "cell_type": "code",
      "metadata": {
        "id": "-4x1Y1xtZMAi",
        "colab_type": "code",
        "outputId": "73fa6de2-4456-47af-e0de-3650d9fd9ef9",
        "colab": {
          "base_uri": "https://localhost:8080/",
          "height": 374
        }
      },
      "source": [
        "!pip install torchviz\n",
        "# !CUDA_LAUNCH_BLOCKING=1\n",
        "from torch.utils.data.sampler import SubsetRandomSampler\n",
        "from torch.autograd import Variable\n",
        "from torchviz import make_dot\n",
        "import torch\n",
        "import torch.nn as nn\n",
        "import torchvision\n",
        "import torchvision.transforms as transforms\n",
        "import torch.optim as optim\n",
        "\n",
        "\n",
        "import matplotlib.pyplot as plt\n",
        "import numpy as np # we always love numpy\n",
        "import time\n",
        "import gdown\n",
        "import pandas as pd\n",
        "\n",
        "\n",
        "gdown.download('https://storage.googleapis.com/quickdraw_dataset/full/numpy_bitmap/The%20Eiffel%20Tower.npy', 'eiffeltower.npy', False)\n",
        "gdown.download('https://storage.googleapis.com/quickdraw_dataset/full/numpy_bitmap/bear.npy', 'bear.npy', False)\n",
        "gdown.download('https://storage.googleapis.com/quickdraw_dataset/full/numpy_bitmap/airplane.npy', 'airplane.npy', False)\n",
        "gdown.download('https://storage.googleapis.com/quickdraw_dataset/full/numpy_bitmap/broccoli.npy', 'broccoli.npy', False)"
      ],
      "execution_count": 17,
      "outputs": [
        {
          "output_type": "stream",
          "text": [
            "Requirement already satisfied: torchviz in /usr/local/lib/python3.6/dist-packages (0.0.1)\n",
            "Requirement already satisfied: graphviz in /usr/local/lib/python3.6/dist-packages (from torchviz) (0.10.1)\n",
            "Requirement already satisfied: torch in /usr/local/lib/python3.6/dist-packages (from torchviz) (1.2.0)\n",
            "Requirement already satisfied: numpy in /usr/local/lib/python3.6/dist-packages (from torch->torchviz) (1.16.5)\n"
          ],
          "name": "stdout"
        },
        {
          "output_type": "stream",
          "text": [
            "Downloading...\n",
            "From: https://storage.googleapis.com/quickdraw_dataset/full/numpy_bitmap/The%20Eiffel%20Tower.npy\n",
            "To: /content/eiffeltower.npy\n",
            "100%|██████████| 106M/106M [00:00<00:00, 158MB/s]  \n",
            "Downloading...\n",
            "From: https://storage.googleapis.com/quickdraw_dataset/full/numpy_bitmap/bear.npy\n",
            "To: /content/bear.npy\n",
            "100%|██████████| 106M/106M [00:01<00:00, 57.3MB/s] \n",
            "Downloading...\n",
            "From: https://storage.googleapis.com/quickdraw_dataset/full/numpy_bitmap/airplane.npy\n",
            "To: /content/airplane.npy\n",
            "100%|██████████| 119M/119M [00:00<00:00, 180MB/s]\n",
            "Downloading...\n",
            "From: https://storage.googleapis.com/quickdraw_dataset/full/numpy_bitmap/broccoli.npy\n",
            "To: /content/broccoli.npy\n",
            "100%|██████████| 104M/104M [00:00<00:00, 147MB/s]  \n"
          ],
          "name": "stderr"
        },
        {
          "output_type": "execute_result",
          "data": {
            "text/plain": [
              "'broccoli.npy'"
            ]
          },
          "metadata": {
            "tags": []
          },
          "execution_count": 17
        }
      ]
    },
    {
      "cell_type": "code",
      "metadata": {
        "id": "KqPERGQfVgc7",
        "colab_type": "code",
        "colab": {}
      },
      "source": [
        "tower = np.load('eiffeltower.npy') #type = 1\n",
        "bear = np.load('bear.npy') # type = 0\n",
        "airplane = np.load('airplane.npy')\n",
        "broccoli = np.load('broccoli.npy')\n"
      ],
      "execution_count": 0,
      "outputs": []
    },
    {
      "cell_type": "code",
      "metadata": {
        "id": "ICO8bUo6V2He",
        "colab_type": "code",
        "outputId": "42ba98f7-aa21-4714-ce49-4d0e86149e01",
        "colab": {
          "base_uri": "https://localhost:8080/",
          "height": 269
        }
      },
      "source": [
        "import matplotlib.pyplot as plt\n",
        "import numpy as np\n",
        "\n",
        "X = airplane[750]\n",
        "X = np.resize(X,(28,28))\n",
        "X = np.invert(X)\n",
        "plt.imshow(X, cmap=\"gray\")\n",
        "plt.show()"
      ],
      "execution_count": 5,
      "outputs": [
        {
          "output_type": "display_data",
          "data": {
            "image/png": "[encoded data removed]",
            "text/plain": [
              "<Figure size 432x288 with 1 Axes>"
            ]
          },
          "metadata": {
            "tags": []
          }
        }
      ]
    },
    {
      "cell_type": "code",
      "metadata": {
        "id": "X7yhVEn8Ql_h",
        "colab_type": "code",
        "colab": {
          "base_uri": "https://localhost:8080/",
          "height": 473
        },
        "outputId": "b1efaf3c-0810-4b40-805c-80048a1d06b7"
      },
      "source": [
        "from torch.utils.data import Dataset\n",
        "from torch.utils.data import random_split\n",
        "\n",
        "import torch\n",
        "\n",
        "# class QuickDrawData(Dataset):\n",
        "#     def __init__(self, tower, bear, airplane, broccoli):\n",
        "#         super(QuickDrawData, self).__init__()\n",
        "#         self.data = np.vstack((tower, bear, airplane, broccoli))\n",
        "#         self.targets = np.concatenate((0*np.ones(tower.shape[0]), 1*np.ones(bear.shape[0]), 2*np.ones(airplane.shape[0]), 3*np.ones(broccoli.shape[0])))\n",
        "#         print(len(self.data))\n",
        "#         self.classes = ['tower', 'bear', 'airplane', 'broccoli']\n",
        "    \n",
        "#     def __len__(self):\n",
        "#         return self.targets.shape[0]\n",
        "    \n",
        "#     def __getitem__(self, index):\n",
        "#         return torch.FloatTensor(self.data[index, :].reshape((28, 28))).unsqueeze(0), int(self.targets[index])\n",
        "class QuickDrawData(Dataset):\n",
        "    def __init__(self, *args):\n",
        "        super(QuickDrawData, self).__init__()\n",
        "        count = 0\n",
        "        # self.data = np.empty(args[0].shape, dtype=int)\n",
        "        # self.targets = np.empty(args[0].shape, dtype=int)\n",
        "        self.classes = []\n",
        "        for arg in args:\n",
        "          # print(str(arg))\n",
        "          if type(arg) == str:\n",
        "            self.classes += arg\n",
        "          else:\n",
        "\n",
        "            if count == 0:\n",
        "              print(arg.shape)\n",
        "              self.data = np.array(arg)\n",
        "              self.targets = np.array(0*np.ones(arg.shape[0], dtype = int))\n",
        "              print(self.targets)\n",
        "              print(type(self.targets))\n",
        "              print(type(self.data))\n",
        "              print(type(self.classes))\n",
        "            else:\n",
        "              self.data = np.vstack((self.data, arg))\n",
        "              print(int(count)*np.ones(arg.shape[0], dtype = int))\n",
        "              print(self.targets)\n",
        "              self.targets = np.hstack((self.targets, int(count)*np.ones(arg.shape[0], dtype = int)))\n",
        "            count+=1\n",
        "    \n",
        "    def __len__(self):\n",
        "        return self.targets.shape[0]\n",
        "    \n",
        "    def __getitem__(self, index):\n",
        "        return torch.FloatTensor(self.data[index, :].reshape((28, 28))).unsqueeze(0), int(self.targets[index])\n",
        "\n",
        "quick_draw_data = QuickDrawData(tower, bear, airplane, broccoli, 'tower', 'bear', 'airplane', 'brocolli')\n",
        "\n",
        "im, target = quick_draw_data[55102]\n",
        "plt.imshow(im.squeeze(), cmap='gray')\n",
        "plt.show()\n",
        "im.shape\n",
        "print(target)"
      ],
      "execution_count": 107,
      "outputs": [
        {
          "output_type": "stream",
          "text": [
            "(134801, 784)\n",
            "[0 0 0 ... 0 0 0]\n",
            "<class 'numpy.ndarray'>\n",
            "<class 'numpy.ndarray'>\n",
            "<class 'list'>\n",
            "[1 1 1 ... 1 1 1]\n",
            "[0 0 0 ... 0 0 0]\n",
            "[2 2 2 ... 2 2 2]\n",
            "[0 0 0 ... 1 1 1]\n",
            "[3 3 3 ... 3 3 3]\n",
            "[0 0 0 ... 2 2 2]\n"
          ],
          "name": "stdout"
        },
        {
          "output_type": "display_data",
          "data": {
            "image/png": "[encoded data removed]",
            "text/plain": [
              "<Figure size 432x288 with 1 Axes>"
            ]
          },
          "metadata": {
            "tags": []
          }
        },
        {
          "output_type": "stream",
          "text": [
            "0\n"
          ],
          "name": "stdout"
        }
      ]
    },
    {
      "cell_type": "code",
      "metadata": {
        "id": "Vi8X_pFZAcm3",
        "colab_type": "code",
        "colab": {}
      },
      "source": [
        ""
      ],
      "execution_count": 0,
      "outputs": []
    },
    {
      "cell_type": "code",
      "metadata": {
        "colab_type": "code",
        "outputId": "4b2e1eab-1399-4718-a809-744f4a2e24d0",
        "id": "9fMDbMQBAdAc",
        "colab": {
          "base_uri": "https://localhost:8080/",
          "height": 303
        }
      },
      "source": [
        "# from torch.utils.data import Dataset\n",
        "# from torch.utils.data import random_split\n",
        "\n",
        "# import torch\n",
        "\n",
        "# class QuickDrawData(Dataset):\n",
        "#     def __init__(self,airplane, broccoli):\n",
        "#         super(QuickDrawData, self).__init__()\n",
        "#         self.data = np.vstack((airplane, broccoli))\n",
        "#         self.targets = np.concatenate((0*np.ones(airplane.shape[0]), 1*np.ones(broccoli.shape[0])))\n",
        "#         print(len(self.data))\n",
        "#         # self.classes = ['tower', 'bear', 'airplane', 'broccoli']\n",
        "#         self.classes = ['airplane', 'broccoli']\n",
        "    \n",
        "#     def __len__(self):\n",
        "#         return self.targets.shape[0]\n",
        "    \n",
        "#     def __getitem__(self, index):\n",
        "#         return torch.FloatTensor(self.data[index, :].reshape((28, 28))).unsqueeze(0), int(self.targets[index])\n",
        "\n",
        "# quick_draw_data = QuickDrawData(airplane, broccoli)\n",
        "\n",
        "# im, target = quick_draw_data[502]\n",
        "# plt.imshow(im.squeeze(), cmap='gray')\n",
        "# plt.show()\n",
        "# im.shape\n",
        "# print(target)"
      ],
      "execution_count": 7,
      "outputs": [
        {
          "output_type": "stream",
          "text": [
            "284449\n"
          ],
          "name": "stdout"
        },
        {
          "output_type": "display_data",
          "data": {
            "image/png": "[encoded data removed]",
            "text/plain": [
              "<Figure size 432x288 with 1 Axes>"
            ]
          },
          "metadata": {
            "tags": []
          }
        },
        {
          "output_type": "stream",
          "text": [
            "0\n"
          ],
          "name": "stdout"
        }
      ]
    },
    {
      "cell_type": "code",
      "metadata": {
        "id": "RbaebNQ7RwG0",
        "colab_type": "code",
        "colab": {}
      },
      "source": [
        "x = int(len(quick_draw_data)*.9)\n",
        "train, test = random_split(quick_draw_data, [x,(len(quick_draw_data) - x)])\n"
      ],
      "execution_count": 0,
      "outputs": []
    },
    {
      "cell_type": "code",
      "metadata": {
        "id": "LMrsY0PERwJV",
        "colab_type": "code",
        "colab": {}
      },
      "source": [
        "# Data set information\n",
        "\n",
        "image_dims = 1, 28, 28\n",
        "n_training_samples = len(train) # How many training images to use\n",
        "n_test_samples = len(test) # How many test images to use\n",
        "classes = ('tower', 'bear', 'airplane', 'brocolli')\n",
        "\n",
        "# Load the training set\n",
        "train_set = train\n",
        "train_sampler = SubsetRandomSampler(\n",
        "    np.arange(n_training_samples, dtype=np.int64))\n",
        "\n",
        "#Load the test set\n",
        "test_set = test\n",
        "test_sampler = SubsetRandomSampler(np.arange(n_test_samples, dtype=np.int64))"
      ],
      "execution_count": 0,
      "outputs": []
    },
    {
      "cell_type": "code",
      "metadata": {
        "id": "2Dv6-ImXRwMA",
        "colab_type": "code",
        "outputId": "c0dc1df7-89dc-449b-85ef-7ea148d6e3d9",
        "colab": {
          "base_uri": "https://localhost:8080/",
          "height": 34
        }
      },
      "source": [
        "type(test_set)"
      ],
      "execution_count": 0,
      "outputs": [
        {
          "output_type": "execute_result",
          "data": {
            "text/plain": [
              "torch.utils.data.dataset.Subset"
            ]
          },
          "metadata": {
            "tags": []
          },
          "execution_count": 18
        }
      ]
    },
    {
      "cell_type": "code",
      "metadata": {
        "id": "8QoJj27WRwO2",
        "colab_type": "code",
        "colab": {}
      },
      "source": [
        "class MyCNN(nn.Module):\n",
        "  \n",
        "  def __init__(self):\n",
        "    super(MyCNN, self).__init__()\n",
        "    \n",
        "    num_kernels = 16\n",
        "    \n",
        "    self.conv1 = nn.Conv2d(1, num_kernels, kernel_size=3, stride=1, padding=1)\n",
        "    self.pool = nn.MaxPool2d(kernel_size = 2, stride = 2, padding = 0)\n",
        "    self.maxpool_output_size = int(num_kernels*(image_dims[1]/2) * (image_dims[2]/2))\n",
        "    \n",
        "    fcl_size = 64\n",
        "    self.fc1 = nn.Linear(self.maxpool_output_size, fcl_size)\n",
        "    self.activation_func = torch.nn.ReLU()\n",
        "    fc2_size = len(classes)\n",
        "    self.fc2 = nn.Linear(fcl_size, fc2_size)\n",
        "    \n",
        "  def forward(self, x):\n",
        "    x = self.conv1(x)\n",
        "    x = self.pool(x)\n",
        "    x = self.activation_func(x)\n",
        "    \n",
        "    x = x.view(-1, self.maxpool_output_size)\n",
        "    x = self.fc1(x)\n",
        "    x = self.activation_func(x)\n",
        "    x = self.fc2(x)\n",
        "    return x\n",
        "\n",
        "  def get_loss(self, learning_rate):\n",
        "    loss = nn.CrossEntropyLoss()\n",
        "    optimizer = optim.Adam(self.parameters(), lr=learning_rate)\n",
        "    return loss, optimizer\n",
        "  "
      ],
      "execution_count": 0,
      "outputs": []
    },
    {
      "cell_type": "code",
      "metadata": {
        "id": "fHaayoLKRwaY",
        "colab_type": "code",
        "colab": {}
      },
      "source": [
        "net = MyCNN()"
      ],
      "execution_count": 0,
      "outputs": []
    },
    {
      "cell_type": "code",
      "metadata": {
        "id": "_SbsGk9qjpmY",
        "colab_type": "code",
        "outputId": "34498a19-11e9-4b57-d970-89d3ff06167e",
        "colab": {
          "base_uri": "https://localhost:8080/",
          "height": 678
        }
      },
      "source": [
        "def visualize_network(net):\n",
        "    # Visualize the architecture of the model\n",
        "    # We need to give the net a fake input for this library to visualize the architecture\n",
        "    fake_input = Variable(torch.zeros((1, image_dims[0], image_dims[1], image_dims[2]))).to(device)\n",
        "    outputs = net(fake_input)\n",
        "    # Plot the DAG (Directed Acyclic Graph) of the model\n",
        "    return make_dot(outputs, dict(net.named_parameters()))\n",
        "\n",
        "# Define what device we want to use\n",
        "device = 'cuda' # 'cpu' if we want to not use the gpu\n",
        "# Initialize the model, loss, and optimization function\n",
        "net = MyCNN()\n",
        "# This tells our model to send all of the tensors and operations to the GPU (or keep them at the CPU if we're not using GPU)\n",
        "net.to(device)\n",
        "# \n",
        "visualize_network(net)"
      ],
      "execution_count": 23,
      "outputs": [
        {
          "output_type": "execute_result",
          "data": {
            "text/plain": [
              "<graphviz.dot.Digraph at 0x7f7f79cc74e0>"
            ],
            "image/svg+xml": "<?xml version=\"1.0\" encoding=\"UTF-8\" standalone=\"no\"?>\n<!DOCTYPE svg PUBLIC \"-//W3C//DTD SVG 1.1//EN\"\n \"http://www.w3.org/Graphics/SVG/1.1/DTD/svg11.dtd\">\n<!-- Generated by graphviz version 2.40.1 (20161225.0304)\n -->\n<!-- Title: %3 Pages: 1 -->\n<svg width=\"267pt\" height=\"493pt\"\n viewBox=\"0.00 0.00 266.50 493.00\" xmlns=\"http://www.w3.org/2000/svg\" xmlns:xlink=\"http://www.w3.org/1999/xlink\">\n<g id=\"graph0\" class=\"graph\" transform=\"scale(1 1) rotate(0) translate(4 489)\">\n<title>%3</title>\n<polygon fill=\"#ffffff\" stroke=\"transparent\" points=\"-4,4 -4,-489 262.5,-489 262.5,4 -4,4\"/>\n<!-- 140185480755296 -->\n<g id=\"node1\" class=\"node\">\n<title>140185480755296</title>\n<polygon fill=\"#caff70\" stroke=\"#000000\" points=\"171,-21 67,-21 67,0 171,0 171,-21\"/>\n<text text-anchor=\"middle\" x=\"119\" y=\"-7.4\" font-family=\"Times,serif\" font-size=\"12.00\" fill=\"#000000\">AddmmBackward</text>\n</g>\n<!-- 140185480754848 -->\n<g id=\"node2\" class=\"node\">\n<title>140185480754848</title>\n<polygon fill=\"#add8e6\" stroke=\"#000000\" points=\"54,-91 0,-91 0,-57 54,-57 54,-91\"/>\n<text text-anchor=\"middle\" x=\"27\" y=\"-77.4\" font-family=\"Times,serif\" font-size=\"12.00\" fill=\"#000000\">fc2.bias</text>\n<text text-anchor=\"middle\" x=\"27\" y=\"-64.4\" font-family=\"Times,serif\" font-size=\"12.00\" fill=\"#000000\"> (4)</text>\n</g>\n<!-- 140185480754848&#45;&gt;140185480755296 -->\n<g id=\"edge1\" class=\"edge\">\n<title>140185480754848&#45;&gt;140185480755296</title>\n<path fill=\"none\" stroke=\"#000000\" d=\"M51.6543,-56.9832C65.1894,-47.641 81.8926,-36.1122 95.278,-26.8734\"/>\n<polygon fill=\"#000000\" stroke=\"#000000\" points=\"97.2865,-29.7398 103.5283,-21.1788 93.3102,-23.9788 97.2865,-29.7398\"/>\n</g>\n<!-- 140185480755408 -->\n<g id=\"node3\" class=\"node\">\n<title>140185480755408</title>\n<polygon fill=\"#d3d3d3\" stroke=\"#000000\" points=\"166,-84.5 72,-84.5 72,-63.5 166,-63.5 166,-84.5\"/>\n<text text-anchor=\"middle\" x=\"119\" y=\"-70.9\" font-family=\"Times,serif\" font-size=\"12.00\" fill=\"#000000\">ReluBackward0</text>\n</g>\n<!-- 140185480755408&#45;&gt;140185480755296 -->\n<g id=\"edge2\" class=\"edge\">\n<title>140185480755408&#45;&gt;140185480755296</title>\n<path fill=\"none\" stroke=\"#000000\" d=\"M119,-63.2281C119,-54.5091 119,-41.9699 119,-31.3068\"/>\n<polygon fill=\"#000000\" stroke=\"#000000\" points=\"122.5001,-31.1128 119,-21.1128 115.5001,-31.1129 122.5001,-31.1128\"/>\n</g>\n<!-- 140185480755744 -->\n<g id=\"node4\" class=\"node\">\n<title>140185480755744</title>\n<polygon fill=\"#d3d3d3\" stroke=\"#000000\" points=\"170,-154.5 66,-154.5 66,-133.5 170,-133.5 170,-154.5\"/>\n<text text-anchor=\"middle\" x=\"118\" y=\"-140.9\" font-family=\"Times,serif\" font-size=\"12.00\" fill=\"#000000\">AddmmBackward</text>\n</g>\n<!-- 140185480755744&#45;&gt;140185480755408 -->\n<g id=\"edge3\" class=\"edge\">\n<title>140185480755744&#45;&gt;140185480755408</title>\n<path fill=\"none\" stroke=\"#000000\" d=\"M118.1519,-133.3685C118.2972,-123.1925 118.5206,-107.5606 118.7016,-94.8912\"/>\n<polygon fill=\"#000000\" stroke=\"#000000\" points=\"122.2034,-94.7806 118.8467,-84.7315 115.2041,-94.6805 122.2034,-94.7806\"/>\n</g>\n<!-- 140185480754232 -->\n<g id=\"node5\" class=\"node\">\n<title>140185480754232</title>\n<polygon fill=\"#add8e6\" stroke=\"#000000\" points=\"54,-231 0,-231 0,-197 54,-197 54,-231\"/>\n<text text-anchor=\"middle\" x=\"27\" y=\"-217.4\" font-family=\"Times,serif\" font-size=\"12.00\" fill=\"#000000\">fc1.bias</text>\n<text text-anchor=\"middle\" x=\"27\" y=\"-204.4\" font-family=\"Times,serif\" font-size=\"12.00\" fill=\"#000000\"> (64)</text>\n</g>\n<!-- 140185480754232&#45;&gt;140185480755744 -->\n<g id=\"edge4\" class=\"edge\">\n<title>140185480754232&#45;&gt;140185480755744</title>\n<path fill=\"none\" stroke=\"#000000\" d=\"M49.4944,-196.6966C63.7034,-185.7666 81.9745,-171.7119 96.0735,-160.8666\"/>\n<polygon fill=\"#000000\" stroke=\"#000000\" points=\"98.447,-163.4565 104.2393,-154.5852 94.179,-157.9081 98.447,-163.4565\"/>\n</g>\n<!-- 140185480755072 -->\n<g id=\"node6\" class=\"node\">\n<title>140185480755072</title>\n<polygon fill=\"#d3d3d3\" stroke=\"#000000\" points=\"163.5,-224.5 72.5,-224.5 72.5,-203.5 163.5,-203.5 163.5,-224.5\"/>\n<text text-anchor=\"middle\" x=\"118\" y=\"-210.9\" font-family=\"Times,serif\" font-size=\"12.00\" fill=\"#000000\">ViewBackward</text>\n</g>\n<!-- 140185480755072&#45;&gt;140185480755744 -->\n<g id=\"edge5\" class=\"edge\">\n<title>140185480755072&#45;&gt;140185480755744</title>\n<path fill=\"none\" stroke=\"#000000\" d=\"M118,-203.3685C118,-193.1925 118,-177.5606 118,-164.8912\"/>\n<polygon fill=\"#000000\" stroke=\"#000000\" points=\"121.5001,-164.7315 118,-154.7315 114.5001,-164.7316 121.5001,-164.7315\"/>\n</g>\n<!-- 140185480754120 -->\n<g id=\"node7\" class=\"node\">\n<title>140185480754120</title>\n<polygon fill=\"#d3d3d3\" stroke=\"#000000\" points=\"165,-294.5 71,-294.5 71,-273.5 165,-273.5 165,-294.5\"/>\n<text text-anchor=\"middle\" x=\"118\" y=\"-280.9\" font-family=\"Times,serif\" font-size=\"12.00\" fill=\"#000000\">ReluBackward0</text>\n</g>\n<!-- 140185480754120&#45;&gt;140185480755072 -->\n<g id=\"edge6\" class=\"edge\">\n<title>140185480754120&#45;&gt;140185480755072</title>\n<path fill=\"none\" stroke=\"#000000\" d=\"M118,-273.3685C118,-263.1925 118,-247.5606 118,-234.8912\"/>\n<polygon fill=\"#000000\" stroke=\"#000000\" points=\"121.5001,-234.7315 118,-224.7315 114.5001,-234.7316 121.5001,-234.7315\"/>\n</g>\n<!-- 140185480753448 -->\n<g id=\"node8\" class=\"node\">\n<title>140185480753448</title>\n<polygon fill=\"#d3d3d3\" stroke=\"#000000\" points=\"208,-358 28,-358 28,-337 208,-337 208,-358\"/>\n<text text-anchor=\"middle\" x=\"118\" y=\"-344.4\" font-family=\"Times,serif\" font-size=\"12.00\" fill=\"#000000\">MaxPool2DWithIndicesBackward</text>\n</g>\n<!-- 140185480753448&#45;&gt;140185480754120 -->\n<g id=\"edge7\" class=\"edge\">\n<title>140185480753448&#45;&gt;140185480754120</title>\n<path fill=\"none\" stroke=\"#000000\" d=\"M118,-336.7281C118,-328.0091 118,-315.4699 118,-304.8068\"/>\n<polygon fill=\"#000000\" stroke=\"#000000\" points=\"121.5001,-304.6128 118,-294.6128 114.5001,-304.6129 121.5001,-304.6128\"/>\n</g>\n<!-- 140185480753560 -->\n<g id=\"node9\" class=\"node\">\n<title>140185480753560</title>\n<polygon fill=\"#d3d3d3\" stroke=\"#000000\" points=\"196.5,-415 39.5,-415 39.5,-394 196.5,-394 196.5,-415\"/>\n<text text-anchor=\"middle\" x=\"118\" y=\"-401.4\" font-family=\"Times,serif\" font-size=\"12.00\" fill=\"#000000\">CudnnConvolutionBackward</text>\n</g>\n<!-- 140185480753560&#45;&gt;140185480753448 -->\n<g id=\"edge8\" class=\"edge\">\n<title>140185480753560&#45;&gt;140185480753448</title>\n<path fill=\"none\" stroke=\"#000000\" d=\"M118,-393.7787C118,-386.6134 118,-376.9517 118,-368.3097\"/>\n<polygon fill=\"#000000\" stroke=\"#000000\" points=\"121.5001,-368.1732 118,-358.1732 114.5001,-368.1732 121.5001,-368.1732\"/>\n</g>\n<!-- 140185480755464 -->\n<g id=\"node10\" class=\"node\">\n<title>140185480755464</title>\n<polygon fill=\"#add8e6\" stroke=\"#000000\" points=\"112.5,-485 31.5,-485 31.5,-451 112.5,-451 112.5,-485\"/>\n<text text-anchor=\"middle\" x=\"72\" y=\"-471.4\" font-family=\"Times,serif\" font-size=\"12.00\" fill=\"#000000\">conv1.weight</text>\n<text text-anchor=\"middle\" x=\"72\" y=\"-458.4\" font-family=\"Times,serif\" font-size=\"12.00\" fill=\"#000000\"> (16, 1, 3, 3)</text>\n</g>\n<!-- 140185480755464&#45;&gt;140185480753560 -->\n<g id=\"edge9\" class=\"edge\">\n<title>140185480755464&#45;&gt;140185480753560</title>\n<path fill=\"none\" stroke=\"#000000\" d=\"M84.3272,-450.9832C90.4107,-442.5853 97.7742,-432.4204 104.0621,-423.7404\"/>\n<polygon fill=\"#000000\" stroke=\"#000000\" points=\"107.0945,-425.5204 110.1266,-415.3687 101.4256,-421.4138 107.0945,-425.5204\"/>\n</g>\n<!-- 140185481129432 -->\n<g id=\"node11\" class=\"node\">\n<title>140185481129432</title>\n<polygon fill=\"#add8e6\" stroke=\"#000000\" points=\"199,-485 131,-485 131,-451 199,-451 199,-485\"/>\n<text text-anchor=\"middle\" x=\"165\" y=\"-471.4\" font-family=\"Times,serif\" font-size=\"12.00\" fill=\"#000000\">conv1.bias</text>\n<text text-anchor=\"middle\" x=\"165\" y=\"-458.4\" font-family=\"Times,serif\" font-size=\"12.00\" fill=\"#000000\"> (16)</text>\n</g>\n<!-- 140185481129432&#45;&gt;140185480753560 -->\n<g id=\"edge10\" class=\"edge\">\n<title>140185481129432&#45;&gt;140185480753560</title>\n<path fill=\"none\" stroke=\"#000000\" d=\"M152.4049,-450.9832C146.1237,-442.4969 138.5069,-432.2062 132.0384,-423.4668\"/>\n<polygon fill=\"#000000\" stroke=\"#000000\" points=\"134.8071,-421.3243 126.0445,-415.3687 129.1806,-425.4888 134.8071,-421.3243\"/>\n</g>\n<!-- 140185480755352 -->\n<g id=\"node12\" class=\"node\">\n<title>140185480755352</title>\n<polygon fill=\"#d3d3d3\" stroke=\"#000000\" points=\"254.5,-224.5 181.5,-224.5 181.5,-203.5 254.5,-203.5 254.5,-224.5\"/>\n<text text-anchor=\"middle\" x=\"218\" y=\"-210.9\" font-family=\"Times,serif\" font-size=\"12.00\" fill=\"#000000\">TBackward</text>\n</g>\n<!-- 140185480755352&#45;&gt;140185480755744 -->\n<g id=\"edge11\" class=\"edge\">\n<title>140185480755352&#45;&gt;140185480755744</title>\n<path fill=\"none\" stroke=\"#000000\" d=\"M202.8122,-203.3685C186.492,-191.9444 160.3486,-173.644 141.398,-160.3786\"/>\n<polygon fill=\"#000000\" stroke=\"#000000\" points=\"143.2026,-157.3695 133.0031,-154.5022 139.1883,-163.1042 143.2026,-157.3695\"/>\n</g>\n<!-- 140185480753896 -->\n<g id=\"node13\" class=\"node\">\n<title>140185480753896</title>\n<polygon fill=\"#add8e6\" stroke=\"#000000\" points=\"252.5,-301 183.5,-301 183.5,-267 252.5,-267 252.5,-301\"/>\n<text text-anchor=\"middle\" x=\"218\" y=\"-287.4\" font-family=\"Times,serif\" font-size=\"12.00\" fill=\"#000000\">fc1.weight</text>\n<text text-anchor=\"middle\" x=\"218\" y=\"-274.4\" font-family=\"Times,serif\" font-size=\"12.00\" fill=\"#000000\"> (64, 3136)</text>\n</g>\n<!-- 140185480753896&#45;&gt;140185480755352 -->\n<g id=\"edge12\" class=\"edge\">\n<title>140185480753896&#45;&gt;140185480755352</title>\n<path fill=\"none\" stroke=\"#000000\" d=\"M218,-266.6966C218,-257.0634 218,-245.003 218,-234.8518\"/>\n<polygon fill=\"#000000\" stroke=\"#000000\" points=\"221.5001,-234.7912 218,-224.7913 214.5001,-234.7913 221.5001,-234.7912\"/>\n</g>\n<!-- 140185480755184 -->\n<g id=\"node14\" class=\"node\">\n<title>140185480755184</title>\n<polygon fill=\"#d3d3d3\" stroke=\"#000000\" points=\"258.5,-84.5 185.5,-84.5 185.5,-63.5 258.5,-63.5 258.5,-84.5\"/>\n<text text-anchor=\"middle\" x=\"222\" y=\"-70.9\" font-family=\"Times,serif\" font-size=\"12.00\" fill=\"#000000\">TBackward</text>\n</g>\n<!-- 140185480755184&#45;&gt;140185480755296 -->\n<g id=\"edge13\" class=\"edge\">\n<title>140185480755184&#45;&gt;140185480755296</title>\n<path fill=\"none\" stroke=\"#000000\" d=\"M204.5275,-63.2281C188.1519,-53.1325 163.4682,-37.9149 144.8209,-26.4187\"/>\n<polygon fill=\"#000000\" stroke=\"#000000\" points=\"146.5636,-23.3814 136.2145,-21.1128 142.8901,-29.3401 146.5636,-23.3814\"/>\n</g>\n<!-- 140185480754736 -->\n<g id=\"node15\" class=\"node\">\n<title>140185480754736</title>\n<polygon fill=\"#add8e6\" stroke=\"#000000\" points=\"255.5,-161 188.5,-161 188.5,-127 255.5,-127 255.5,-161\"/>\n<text text-anchor=\"middle\" x=\"222\" y=\"-147.4\" font-family=\"Times,serif\" font-size=\"12.00\" fill=\"#000000\">fc2.weight</text>\n<text text-anchor=\"middle\" x=\"222\" y=\"-134.4\" font-family=\"Times,serif\" font-size=\"12.00\" fill=\"#000000\"> (4, 64)</text>\n</g>\n<!-- 140185480754736&#45;&gt;140185480755184 -->\n<g id=\"edge14\" class=\"edge\">\n<title>140185480754736&#45;&gt;140185480755184</title>\n<path fill=\"none\" stroke=\"#000000\" d=\"M222,-126.6966C222,-117.0634 222,-105.003 222,-94.8518\"/>\n<polygon fill=\"#000000\" stroke=\"#000000\" points=\"225.5001,-94.7912 222,-84.7913 218.5001,-94.7913 225.5001,-94.7912\"/>\n</g>\n</g>\n</svg>\n"
          },
          "metadata": {
            "tags": []
          },
          "execution_count": 23
        }
      ]
    },
    {
      "cell_type": "code",
      "metadata": {
        "id": "a_9CTlb4Yx7-",
        "colab_type": "code",
        "colab": {}
      },
      "source": [
        "# Define training parameters\n",
        "batch_size = 1024\n",
        "learning_rate = 1e-2\n",
        "n_epochs = 10\n",
        "# Get our data into the mini batch size that we defined\n",
        "train_loader = torch.utils.data.DataLoader(train_set, batch_size = batch_size, sampler=train_sampler, num_workers = 2)\n",
        "test_loader = torch.utils.data.DataLoader(test_set, batch_size = 128, sampler=test_sampler, num_workers = 2)\n",
        "\n",
        "def train_model(net):\n",
        "    \"\"\" Train a the specified network.\n",
        "\n",
        "        Outputs a tuple with the following four elements\n",
        "        train_hist_x: the x-values (batch number) that the training set was \n",
        "            evaluated on.\n",
        "        train_loss_hist: the loss values for the training set corresponding to\n",
        "            the batch numbers returned in train_hist_x\n",
        "        test_hist_x: the x-values (batch number) that the test set was \n",
        "            evaluated on.\n",
        "        test_loss_hist: the loss values for the test set corresponding to\n",
        "            the batch numbers returned in test_hist_x\n",
        "    \"\"\" \n",
        "    loss, optimizer = net.get_loss(learning_rate)\n",
        "    # Define some parameters to keep track of metrics\n",
        "    print_every = 20\n",
        "    idx = 0\n",
        "    train_hist_x = []\n",
        "    train_loss_hist = []\n",
        "    test_hist_x = []\n",
        "    test_loss_hist = []\n",
        "\n",
        "    training_start_time = time.time()\n",
        "    # Loop for n_epochs\n",
        "    for epoch in range(n_epochs):\n",
        "        running_loss = 0.0\n",
        "        start_time = time.time()\n",
        "\n",
        "        for i, data in enumerate(train_loader, 0):\n",
        "\n",
        "            # Get inputs in right form\n",
        "            inputs, labels = data\n",
        "            inputs, labels = Variable(inputs).to(device), Variable(labels).to(device)\n",
        "            \n",
        "            # In Pytorch, We need to always remember to set the optimizer gradients to 0 before we recompute the new gradients\n",
        "            optimizer.zero_grad()\n",
        "\n",
        "            # Forward pass\n",
        "            outputs = net(inputs)\n",
        "            \n",
        "            # Compute the loss and find the loss with respect to each parameter of the model\n",
        "            loss_size = loss(outputs, labels)\n",
        "            loss_size.backward()\n",
        "            \n",
        "            # Change each parameter with respect to the recently computed loss.\n",
        "            optimizer.step()\n",
        "\n",
        "            # Update statistics\n",
        "            running_loss += loss_size.data.item()\n",
        "            \n",
        "            # Print every 20th batch of an epoch\n",
        "            if (i % print_every) == print_every-1:\n",
        "                print(\"Epoch {}, Iteration {}\\t train_loss: {:.2f} took: {:.2f}s\".format(\n",
        "                    epoch + 1, i+1,running_loss / print_every, time.time() - start_time))\n",
        "                # Reset running loss and time\n",
        "                train_loss_hist.append(running_loss / print_every)\n",
        "                train_hist_x.append(idx)\n",
        "                running_loss = 0.0\n",
        "                start_time = time.time()\n",
        "            idx += 1\n",
        "\n",
        "        # At the end of the epoch, do a pass on the test set\n",
        "        total_test_loss = 0\n",
        "        for inputs, labels in test_loader:\n",
        "\n",
        "            # Wrap tensors in Variables\n",
        "            inputs, labels = Variable(inputs).to(device), Variable(labels).to(device)\n",
        "\n",
        "            # Forward pass\n",
        "            test_outputs = net(inputs)\n",
        "            test_loss_size = loss(test_outputs, labels)\n",
        "            total_test_loss += test_loss_size.data.item()\n",
        "        test_loss_hist.append(total_test_loss / len(test_loader))\n",
        "        test_hist_x.append(idx)\n",
        "        print(\"Validation loss = {:.2f}\".format(\n",
        "            total_test_loss / len(test_loader)))\n",
        "\n",
        "    print(\"Training finished, took {:.2f}s\".format(\n",
        "        time.time() - training_start_time))\n",
        "    return train_hist_x, train_loss_hist, test_hist_x, test_loss_hist"
      ],
      "execution_count": 0,
      "outputs": []
    },
    {
      "cell_type": "code",
      "metadata": {
        "id": "cGyZdjgNjf_h",
        "colab_type": "code",
        "outputId": "3e968534-8bc9-48d9-e6bd-b382431da0ed",
        "colab": {
          "base_uri": "https://localhost:8080/",
          "height": 1000
        }
      },
      "source": [
        "train_hist_x, train_loss_hist, test_hist_x, test_loss_hist = train_model(net)"
      ],
      "execution_count": 52,
      "outputs": [
        {
          "output_type": "stream",
          "text": [
            "Epoch 1, Iteration 20\t train_loss: 0.22 took: 1.06s\n",
            "Epoch 1, Iteration 40\t train_loss: 0.20 took: 0.75s\n",
            "Epoch 1, Iteration 60\t train_loss: 0.19 took: 0.82s\n",
            "Epoch 1, Iteration 80\t train_loss: 0.20 took: 0.77s\n",
            "Epoch 1, Iteration 100\t train_loss: 0.19 took: 0.80s\n",
            "Epoch 1, Iteration 120\t train_loss: 0.20 took: 0.79s\n",
            "Epoch 1, Iteration 140\t train_loss: 0.20 took: 0.76s\n",
            "Epoch 1, Iteration 160\t train_loss: 0.20 took: 0.91s\n",
            "Epoch 1, Iteration 180\t train_loss: 0.20 took: 0.75s\n",
            "Epoch 1, Iteration 200\t train_loss: 0.20 took: 0.75s\n",
            "Epoch 1, Iteration 220\t train_loss: 0.20 took: 0.75s\n",
            "Epoch 1, Iteration 240\t train_loss: 0.21 took: 0.74s\n",
            "Epoch 1, Iteration 260\t train_loss: 0.20 took: 0.76s\n",
            "Epoch 1, Iteration 280\t train_loss: 0.20 took: 0.77s\n",
            "Epoch 1, Iteration 300\t train_loss: 0.20 took: 0.74s\n",
            "Epoch 1, Iteration 320\t train_loss: 0.20 took: 0.79s\n",
            "Epoch 1, Iteration 340\t train_loss: 0.19 took: 0.74s\n",
            "Epoch 1, Iteration 360\t train_loss: 0.19 took: 1.00s\n",
            "Epoch 1, Iteration 380\t train_loss: 0.21 took: 0.81s\n",
            "Epoch 1, Iteration 400\t train_loss: 0.20 took: 0.76s\n",
            "Epoch 1, Iteration 420\t train_loss: 0.19 took: 0.78s\n",
            "Epoch 1, Iteration 440\t train_loss: 0.19 took: 0.75s\n",
            "Epoch 1, Iteration 460\t train_loss: 0.20 took: 0.76s\n",
            "Epoch 1, Iteration 480\t train_loss: 0.20 took: 0.75s\n",
            "Validation loss = 0.20\n",
            "Epoch 2, Iteration 20\t train_loss: 0.20 took: 1.02s\n",
            "Epoch 2, Iteration 40\t train_loss: 0.20 took: 0.83s\n",
            "Epoch 2, Iteration 60\t train_loss: 0.19 took: 0.79s\n",
            "Epoch 2, Iteration 80\t train_loss: 0.19 took: 0.81s\n",
            "Epoch 2, Iteration 100\t train_loss: 0.20 took: 0.76s\n",
            "Epoch 2, Iteration 120\t train_loss: 0.20 took: 0.92s\n",
            "Epoch 2, Iteration 140\t train_loss: 0.20 took: 0.91s\n",
            "Epoch 2, Iteration 160\t train_loss: 0.20 took: 0.94s\n",
            "Epoch 2, Iteration 180\t train_loss: 0.20 took: 0.73s\n",
            "Epoch 2, Iteration 200\t train_loss: 0.20 took: 0.74s\n",
            "Epoch 2, Iteration 220\t train_loss: 0.19 took: 0.73s\n",
            "Epoch 2, Iteration 240\t train_loss: 0.19 took: 0.75s\n",
            "Epoch 2, Iteration 260\t train_loss: 0.19 took: 0.77s\n",
            "Epoch 2, Iteration 280\t train_loss: 0.20 took: 0.73s\n",
            "Epoch 2, Iteration 300\t train_loss: 0.20 took: 0.74s\n",
            "Epoch 2, Iteration 320\t train_loss: 0.20 took: 0.73s\n",
            "Epoch 2, Iteration 340\t train_loss: 0.20 took: 0.75s\n",
            "Epoch 2, Iteration 360\t train_loss: 0.19 took: 0.99s\n",
            "Epoch 2, Iteration 380\t train_loss: 0.20 took: 0.85s\n",
            "Epoch 2, Iteration 400\t train_loss: 0.20 took: 0.74s\n",
            "Epoch 2, Iteration 420\t train_loss: 0.20 took: 0.76s\n",
            "Epoch 2, Iteration 440\t train_loss: 0.20 took: 0.75s\n",
            "Epoch 2, Iteration 460\t train_loss: 0.20 took: 0.80s\n",
            "Epoch 2, Iteration 480\t train_loss: 0.20 took: 0.89s\n",
            "Validation loss = 0.21\n",
            "Epoch 3, Iteration 20\t train_loss: 0.20 took: 1.03s\n",
            "Epoch 3, Iteration 40\t train_loss: 0.19 took: 0.74s\n",
            "Epoch 3, Iteration 60\t train_loss: 0.20 took: 0.78s\n",
            "Epoch 3, Iteration 80\t train_loss: 0.20 took: 0.75s\n",
            "Epoch 3, Iteration 100\t train_loss: 0.19 took: 0.73s\n",
            "Epoch 3, Iteration 120\t train_loss: 0.19 took: 0.72s\n",
            "Epoch 3, Iteration 140\t train_loss: 0.19 took: 0.76s\n",
            "Epoch 3, Iteration 160\t train_loss: 0.19 took: 0.90s\n",
            "Epoch 3, Iteration 180\t train_loss: 0.19 took: 0.75s\n",
            "Epoch 3, Iteration 200\t train_loss: 0.19 took: 0.76s\n",
            "Epoch 3, Iteration 220\t train_loss: 0.19 took: 0.76s\n",
            "Epoch 3, Iteration 240\t train_loss: 0.19 took: 0.74s\n",
            "Epoch 3, Iteration 260\t train_loss: 0.20 took: 0.86s\n",
            "Epoch 3, Iteration 280\t train_loss: 0.20 took: 0.86s\n",
            "Epoch 3, Iteration 300\t train_loss: 0.19 took: 0.75s\n",
            "Epoch 3, Iteration 320\t train_loss: 0.20 took: 0.75s\n",
            "Epoch 3, Iteration 340\t train_loss: 0.20 took: 0.84s\n",
            "Epoch 3, Iteration 360\t train_loss: 0.20 took: 0.93s\n",
            "Epoch 3, Iteration 380\t train_loss: 0.19 took: 0.75s\n",
            "Epoch 3, Iteration 400\t train_loss: 0.20 took: 0.74s\n",
            "Epoch 3, Iteration 420\t train_loss: 0.20 took: 0.73s\n",
            "Epoch 3, Iteration 440\t train_loss: 0.20 took: 0.81s\n",
            "Epoch 3, Iteration 460\t train_loss: 0.19 took: 0.77s\n",
            "Epoch 3, Iteration 480\t train_loss: 0.21 took: 0.74s\n",
            "Validation loss = 0.20\n",
            "Epoch 4, Iteration 20\t train_loss: 0.19 took: 1.19s\n",
            "Epoch 4, Iteration 40\t train_loss: 0.19 took: 0.73s\n",
            "Epoch 4, Iteration 60\t train_loss: 0.19 took: 0.74s\n",
            "Epoch 4, Iteration 80\t train_loss: 0.19 took: 0.74s\n",
            "Epoch 4, Iteration 100\t train_loss: 0.19 took: 0.78s\n",
            "Epoch 4, Iteration 120\t train_loss: 0.19 took: 0.89s\n",
            "Epoch 4, Iteration 140\t train_loss: 0.20 took: 0.73s\n",
            "Epoch 4, Iteration 160\t train_loss: 0.19 took: 0.89s\n",
            "Epoch 4, Iteration 180\t train_loss: 0.19 took: 0.72s\n",
            "Epoch 4, Iteration 200\t train_loss: 0.19 took: 0.76s\n",
            "Epoch 4, Iteration 220\t train_loss: 0.19 took: 0.74s\n",
            "Epoch 4, Iteration 240\t train_loss: 0.20 took: 0.75s\n",
            "Epoch 4, Iteration 260\t train_loss: 0.20 took: 0.79s\n",
            "Epoch 4, Iteration 280\t train_loss: 0.19 took: 0.73s\n",
            "Epoch 4, Iteration 300\t train_loss: 0.20 took: 0.75s\n",
            "Epoch 4, Iteration 320\t train_loss: 0.20 took: 0.80s\n",
            "Epoch 4, Iteration 340\t train_loss: 0.19 took: 0.76s\n",
            "Epoch 4, Iteration 360\t train_loss: 0.20 took: 0.85s\n",
            "Epoch 4, Iteration 380\t train_loss: 0.19 took: 0.74s\n",
            "Epoch 4, Iteration 400\t train_loss: 0.20 took: 0.77s\n",
            "Epoch 4, Iteration 420\t train_loss: 0.20 took: 0.77s\n",
            "Epoch 4, Iteration 440\t train_loss: 0.19 took: 0.81s\n",
            "Epoch 4, Iteration 460\t train_loss: 0.19 took: 0.89s\n",
            "Epoch 4, Iteration 480\t train_loss: 0.19 took: 0.76s\n",
            "Validation loss = 0.20\n",
            "Epoch 5, Iteration 20\t train_loss: 0.19 took: 1.02s\n",
            "Epoch 5, Iteration 40\t train_loss: 0.20 took: 0.79s\n",
            "Epoch 5, Iteration 60\t train_loss: 0.19 took: 0.78s\n",
            "Epoch 5, Iteration 80\t train_loss: 0.19 took: 0.73s\n",
            "Epoch 5, Iteration 100\t train_loss: 0.19 took: 0.75s\n",
            "Epoch 5, Iteration 120\t train_loss: 0.19 took: 0.74s\n",
            "Epoch 5, Iteration 140\t train_loss: 0.19 took: 0.76s\n",
            "Epoch 5, Iteration 160\t train_loss: 0.19 took: 0.87s\n",
            "Epoch 5, Iteration 180\t train_loss: 0.19 took: 0.85s\n",
            "Epoch 5, Iteration 200\t train_loss: 0.19 took: 0.75s\n",
            "Epoch 5, Iteration 220\t train_loss: 0.19 took: 0.72s\n",
            "Epoch 5, Iteration 240\t train_loss: 0.20 took: 0.75s\n",
            "Epoch 5, Iteration 260\t train_loss: 0.20 took: 0.73s\n",
            "Epoch 5, Iteration 280\t train_loss: 0.19 took: 0.87s\n",
            "Epoch 5, Iteration 300\t train_loss: 0.18 took: 0.72s\n",
            "Epoch 5, Iteration 320\t train_loss: 0.20 took: 0.76s\n",
            "Epoch 5, Iteration 340\t train_loss: 0.19 took: 0.79s\n",
            "Epoch 5, Iteration 360\t train_loss: 0.19 took: 1.02s\n",
            "Epoch 5, Iteration 380\t train_loss: 0.18 took: 0.74s\n",
            "Epoch 5, Iteration 400\t train_loss: 0.19 took: 0.74s\n",
            "Epoch 5, Iteration 420\t train_loss: 0.20 took: 0.84s\n",
            "Epoch 5, Iteration 440\t train_loss: 0.20 took: 0.80s\n",
            "Epoch 5, Iteration 460\t train_loss: 0.20 took: 0.74s\n",
            "Epoch 5, Iteration 480\t train_loss: 0.19 took: 0.75s\n",
            "Validation loss = 0.20\n",
            "Epoch 6, Iteration 20\t train_loss: 0.19 took: 1.00s\n",
            "Epoch 6, Iteration 40\t train_loss: 0.18 took: 0.75s\n",
            "Epoch 6, Iteration 60\t train_loss: 0.19 took: 0.73s\n",
            "Epoch 6, Iteration 80\t train_loss: 0.19 took: 0.74s\n",
            "Epoch 6, Iteration 100\t train_loss: 0.20 took: 0.77s\n",
            "Epoch 6, Iteration 120\t train_loss: 0.20 took: 0.72s\n",
            "Epoch 6, Iteration 140\t train_loss: 0.19 took: 0.73s\n",
            "Epoch 6, Iteration 160\t train_loss: 0.19 took: 0.88s\n",
            "Epoch 6, Iteration 180\t train_loss: 0.19 took: 0.75s\n",
            "Epoch 6, Iteration 200\t train_loss: 0.20 took: 0.74s\n",
            "Epoch 6, Iteration 220\t train_loss: 0.19 took: 0.72s\n",
            "Epoch 6, Iteration 240\t train_loss: 0.19 took: 0.75s\n",
            "Epoch 6, Iteration 260\t train_loss: 0.18 took: 0.77s\n",
            "Epoch 6, Iteration 280\t train_loss: 0.20 took: 0.74s\n",
            "Epoch 6, Iteration 300\t train_loss: 0.18 took: 0.77s\n",
            "Epoch 6, Iteration 320\t train_loss: 0.20 took: 0.73s\n",
            "Epoch 6, Iteration 340\t train_loss: 0.19 took: 0.74s\n",
            "Epoch 6, Iteration 360\t train_loss: 0.20 took: 1.01s\n",
            "Epoch 6, Iteration 380\t train_loss: 0.19 took: 0.76s\n",
            "Epoch 6, Iteration 400\t train_loss: 0.19 took: 0.73s\n",
            "Epoch 6, Iteration 420\t train_loss: 0.19 took: 0.76s\n",
            "Epoch 6, Iteration 440\t train_loss: 0.19 took: 0.72s\n",
            "Epoch 6, Iteration 460\t train_loss: 0.19 took: 0.76s\n",
            "Epoch 6, Iteration 480\t train_loss: 0.20 took: 0.76s\n",
            "Validation loss = 0.20\n",
            "Epoch 7, Iteration 20\t train_loss: 0.19 took: 1.27s\n",
            "Epoch 7, Iteration 40\t train_loss: 0.19 took: 0.78s\n",
            "Epoch 7, Iteration 60\t train_loss: 0.19 took: 0.80s\n",
            "Epoch 7, Iteration 80\t train_loss: 0.19 took: 0.75s\n",
            "Epoch 7, Iteration 100\t train_loss: 0.19 took: 0.76s\n",
            "Epoch 7, Iteration 120\t train_loss: 0.19 took: 0.75s\n",
            "Epoch 7, Iteration 140\t train_loss: 0.19 took: 0.75s\n",
            "Epoch 7, Iteration 160\t train_loss: 0.20 took: 1.00s\n",
            "Epoch 7, Iteration 180\t train_loss: 0.19 took: 0.85s\n",
            "Epoch 7, Iteration 200\t train_loss: 0.19 took: 0.74s\n",
            "Epoch 7, Iteration 220\t train_loss: 0.19 took: 0.76s\n",
            "Epoch 7, Iteration 240\t train_loss: 0.19 took: 0.92s\n",
            "Epoch 7, Iteration 260\t train_loss: 0.18 took: 0.83s\n",
            "Epoch 7, Iteration 280\t train_loss: 0.19 took: 0.75s\n",
            "Epoch 7, Iteration 300\t train_loss: 0.19 took: 0.77s\n",
            "Epoch 7, Iteration 320\t train_loss: 0.18 took: 0.76s\n",
            "Epoch 7, Iteration 340\t train_loss: 0.19 took: 0.82s\n",
            "Epoch 7, Iteration 360\t train_loss: 0.20 took: 0.84s\n",
            "Epoch 7, Iteration 380\t train_loss: 0.19 took: 0.74s\n",
            "Epoch 7, Iteration 400\t train_loss: 0.19 took: 0.72s\n",
            "Epoch 7, Iteration 420\t train_loss: 0.19 took: 0.75s\n",
            "Epoch 7, Iteration 440\t train_loss: 0.19 took: 0.73s\n",
            "Epoch 7, Iteration 460\t train_loss: 0.20 took: 0.73s\n",
            "Epoch 7, Iteration 480\t train_loss: 0.19 took: 0.77s\n",
            "Validation loss = 0.20\n",
            "Epoch 8, Iteration 20\t train_loss: 0.19 took: 0.98s\n",
            "Epoch 8, Iteration 40\t train_loss: 0.19 took: 0.78s\n",
            "Epoch 8, Iteration 60\t train_loss: 0.19 took: 0.73s\n",
            "Epoch 8, Iteration 80\t train_loss: 0.19 took: 0.70s\n",
            "Epoch 8, Iteration 100\t train_loss: 0.19 took: 0.72s\n",
            "Epoch 8, Iteration 120\t train_loss: 0.18 took: 0.74s\n",
            "Epoch 8, Iteration 140\t train_loss: 0.18 took: 0.76s\n",
            "Epoch 8, Iteration 160\t train_loss: 0.19 took: 0.97s\n",
            "Epoch 8, Iteration 180\t train_loss: 0.19 took: 0.88s\n",
            "Epoch 8, Iteration 200\t train_loss: 0.19 took: 0.89s\n",
            "Epoch 8, Iteration 220\t train_loss: 0.20 took: 0.74s\n",
            "Epoch 8, Iteration 240\t train_loss: 0.19 took: 0.86s\n",
            "Epoch 8, Iteration 260\t train_loss: 0.19 took: 0.75s\n",
            "Epoch 8, Iteration 280\t train_loss: 0.20 took: 0.73s\n",
            "Epoch 8, Iteration 300\t train_loss: 0.18 took: 0.75s\n",
            "Epoch 8, Iteration 320\t train_loss: 0.19 took: 0.73s\n",
            "Epoch 8, Iteration 340\t train_loss: 0.19 took: 0.72s\n",
            "Epoch 8, Iteration 360\t train_loss: 0.19 took: 0.83s\n",
            "Epoch 8, Iteration 380\t train_loss: 0.18 took: 0.74s\n",
            "Epoch 8, Iteration 400\t train_loss: 0.20 took: 0.72s\n",
            "Epoch 8, Iteration 420\t train_loss: 0.19 took: 0.90s\n",
            "Epoch 8, Iteration 440\t train_loss: 0.19 took: 0.74s\n",
            "Epoch 8, Iteration 460\t train_loss: 0.19 took: 0.78s\n",
            "Epoch 8, Iteration 480\t train_loss: 0.19 took: 0.70s\n",
            "Validation loss = 0.20\n",
            "Epoch 9, Iteration 20\t train_loss: 0.19 took: 1.00s\n",
            "Epoch 9, Iteration 40\t train_loss: 0.17 took: 0.90s\n",
            "Epoch 9, Iteration 60\t train_loss: 0.19 took: 0.75s\n",
            "Epoch 9, Iteration 80\t train_loss: 0.19 took: 0.74s\n",
            "Epoch 9, Iteration 100\t train_loss: 0.19 took: 0.97s\n",
            "Epoch 9, Iteration 120\t train_loss: 0.19 took: 0.88s\n",
            "Epoch 9, Iteration 140\t train_loss: 0.19 took: 0.74s\n",
            "Epoch 9, Iteration 160\t train_loss: 0.19 took: 0.94s\n",
            "Epoch 9, Iteration 180\t train_loss: 0.19 took: 0.76s\n",
            "Epoch 9, Iteration 200\t train_loss: 0.19 took: 0.80s\n",
            "Epoch 9, Iteration 220\t train_loss: 0.19 took: 0.85s\n",
            "Epoch 9, Iteration 240\t train_loss: 0.18 took: 0.75s\n",
            "Epoch 9, Iteration 260\t train_loss: 0.20 took: 0.76s\n",
            "Epoch 9, Iteration 280\t train_loss: 0.19 took: 0.73s\n",
            "Epoch 9, Iteration 300\t train_loss: 0.21 took: 0.79s\n",
            "Epoch 9, Iteration 320\t train_loss: 0.21 took: 0.76s\n",
            "Epoch 9, Iteration 340\t train_loss: 0.20 took: 0.75s\n",
            "Epoch 9, Iteration 360\t train_loss: 0.19 took: 0.99s\n",
            "Epoch 9, Iteration 380\t train_loss: 0.20 took: 0.77s\n",
            "Epoch 9, Iteration 400\t train_loss: 0.19 took: 0.74s\n",
            "Epoch 9, Iteration 420\t train_loss: 0.20 took: 0.75s\n",
            "Epoch 9, Iteration 440\t train_loss: 0.19 took: 0.75s\n",
            "Epoch 9, Iteration 460\t train_loss: 0.20 took: 0.75s\n",
            "Epoch 9, Iteration 480\t train_loss: 0.19 took: 0.74s\n",
            "Validation loss = 0.20\n",
            "Epoch 10, Iteration 20\t train_loss: 0.18 took: 1.02s\n",
            "Epoch 10, Iteration 40\t train_loss: 0.19 took: 0.77s\n",
            "Epoch 10, Iteration 60\t train_loss: 0.19 took: 0.92s\n",
            "Epoch 10, Iteration 80\t train_loss: 0.20 took: 0.80s\n",
            "Epoch 10, Iteration 100\t train_loss: 0.20 took: 0.86s\n",
            "Epoch 10, Iteration 120\t train_loss: 0.19 took: 0.79s\n",
            "Epoch 10, Iteration 140\t train_loss: 0.19 took: 0.78s\n",
            "Epoch 10, Iteration 160\t train_loss: 0.19 took: 0.90s\n",
            "Epoch 10, Iteration 180\t train_loss: 0.19 took: 0.74s\n",
            "Epoch 10, Iteration 200\t train_loss: 0.19 took: 0.75s\n",
            "Epoch 10, Iteration 220\t train_loss: 0.19 took: 0.82s\n",
            "Epoch 10, Iteration 240\t train_loss: 0.19 took: 0.88s\n",
            "Epoch 10, Iteration 260\t train_loss: 0.19 took: 0.77s\n",
            "Epoch 10, Iteration 280\t train_loss: 0.19 took: 0.92s\n",
            "Epoch 10, Iteration 300\t train_loss: 0.19 took: 0.77s\n",
            "Epoch 10, Iteration 320\t train_loss: 0.19 took: 0.75s\n",
            "Epoch 10, Iteration 340\t train_loss: 0.19 took: 0.79s\n",
            "Epoch 10, Iteration 360\t train_loss: 0.19 took: 0.96s\n",
            "Epoch 10, Iteration 380\t train_loss: 0.18 took: 0.76s\n",
            "Epoch 10, Iteration 400\t train_loss: 0.19 took: 0.72s\n",
            "Epoch 10, Iteration 420\t train_loss: 0.18 took: 0.75s\n",
            "Epoch 10, Iteration 440\t train_loss: 0.19 took: 0.74s\n",
            "Epoch 10, Iteration 460\t train_loss: 0.19 took: 0.75s\n",
            "Epoch 10, Iteration 480\t train_loss: 0.18 took: 0.72s\n",
            "Validation loss = 0.20\n",
            "Training finished, took 221.16s\n"
          ],
          "name": "stdout"
        }
      ]
    },
    {
      "cell_type": "code",
      "metadata": {
        "id": "sVNSsFzVji6W",
        "colab_type": "code",
        "colab": {
          "base_uri": "https://localhost:8080/",
          "height": 283
        },
        "outputId": "d86597b9-4623-49f2-e581-0e3f77f80b08"
      },
      "source": [
        "plt.plot(train_hist_x,train_loss_hist)\n",
        "plt.plot(test_hist_x,test_loss_hist)\n",
        "plt.legend(['train loss', 'validation loss'])\n",
        "plt.xlabel('Batch number')\n",
        "plt.ylabel('Loss')\n",
        "plt.show()"
      ],
      "execution_count": 53,
      "outputs": [
        {
          "output_type": "display_data",
          "data": {
            "image/png": "[encoded data removed]",
            "text/plain": [
              "<Figure size 432x288 with 1 Axes>"
            ]
          },
          "metadata": {
            "tags": []
          }
        }
      ]
    },
    {
      "cell_type": "code",
      "metadata": {
        "id": "vQ13LfcF3Ji2",
        "colab_type": "code",
        "colab": {
          "base_uri": "https://localhost:8080/",
          "height": 51
        },
        "outputId": "1612da57-d0b7-4788-cc6c-e1d179a7aa3b"
      },
      "source": [
        "def get_accuracy(net, loader):\n",
        "    n_correct = 0\n",
        "    n_total = 0\n",
        "    for i, data in enumerate(loader, 0):\n",
        "        # Get inputs in right form\n",
        "        inputs, labels = data\n",
        "        inputs, labels = Variable(inputs).to(device), Variable(labels).to(device)\n",
        "\n",
        "        # Forward pass\n",
        "        outputs = net(inputs)\n",
        "        n_correct += np.sum(np.argmax(outputs.cpu().detach().numpy(), axis=1) == labels.cpu().numpy())\n",
        "        n_total += labels.shape[0]\n",
        "    return n_correct/n_total\n",
        "print(\"Train accuracy is\", get_accuracy(net, train_loader))\n",
        "print(\"Test accuracy is\", get_accuracy(net, test_loader))"
      ],
      "execution_count": 54,
      "outputs": [
        {
          "output_type": "stream",
          "text": [
            "Train accuracy is 0.9351717775415656\n",
            "Test accuracy is 0.9313201689469695\n"
          ],
          "name": "stdout"
        }
      ]
    },
    {
      "cell_type": "code",
      "metadata": {
        "id": "TqMZxrWj47rA",
        "colab_type": "code",
        "colab": {
          "base_uri": "https://localhost:8080/",
          "height": 303
        },
        "outputId": "82a3fd1c-27d2-4ffa-cbe5-cad8089a4251"
      },
      "source": [
        "def examine_label(idx):\n",
        "    image, label = test_set[idx]\n",
        "    class_scores = net(Variable(image.unsqueeze(0)).to(device))\n",
        "    prediction = np.argmax(class_scores.cpu().detach().numpy())\n",
        "    plt.imshow(image.squeeze(), cmap='gray')\n",
        "    plt.show()\n",
        "    print(prediction)\n",
        "    print(label)\n",
        "\n",
        "examine_label(1096)\n"
      ],
      "execution_count": 55,
      "outputs": [
        {
          "output_type": "display_data",
          "data": {
            "image/png": "[encoded data removed]",
            "text/plain": [
              "<Figure size 432x288 with 1 Axes>"
            ]
          },
          "metadata": {
            "tags": []
          }
        },
        {
          "output_type": "stream",
          "text": [
            "2\n",
            "2\n"
          ],
          "name": "stdout"
        }
      ]
    },
    {
      "cell_type": "code",
      "metadata": {
        "id": "iSeuwv8R5NGt",
        "colab_type": "code",
        "colab": {}
      },
      "source": [
        ""
      ],
      "execution_count": 0,
      "outputs": []
    }
  ]
}